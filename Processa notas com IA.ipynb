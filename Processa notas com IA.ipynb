{
 "cells": [
  {
   "cell_type": "code",
   "execution_count": 1,
   "id": "9a15f847-5e7c-47f7-80d0-d09620192df3",
   "metadata": {},
   "outputs": [],
   "source": [
    "import pandas as pd"
   ]
  },
  {
   "cell_type": "code",
   "execution_count": 2,
   "id": "d73c98bc-9b47-4f3e-9587-edd351a5dce9",
   "metadata": {},
   "outputs": [],
   "source": [
    "df = pd.read_csv('transcricoes.csv')"
   ]
  },
  {
   "cell_type": "code",
   "execution_count": 22,
   "id": "775d7339-c7d0-4a63-850e-011dab2d1a01",
   "metadata": {},
   "outputs": [
    {
     "data": {
      "text/html": [
       "<div>\n",
       "<style scoped>\n",
       "    .dataframe tbody tr th:only-of-type {\n",
       "        vertical-align: middle;\n",
       "    }\n",
       "\n",
       "    .dataframe tbody tr th {\n",
       "        vertical-align: top;\n",
       "    }\n",
       "\n",
       "    .dataframe thead th {\n",
       "        text-align: right;\n",
       "    }\n",
       "</style>\n",
       "<table border=\"1\" class=\"dataframe\">\n",
       "  <thead>\n",
       "    <tr style=\"text-align: right;\">\n",
       "      <th></th>\n",
       "      <th>arquivo</th>\n",
       "      <th>transcricao</th>\n",
       "    </tr>\n",
       "  </thead>\n",
       "  <tbody>\n",
       "    <tr>\n",
       "      <th>0</th>\n",
       "      <td>imgs/aluno4.png</td>\n",
       "      <td>Expoente\\nDELLINGA EM EDUCAÇÃO\\nRUA ENDEREÇO E...</td>\n",
       "    </tr>\n",
       "    <tr>\n",
       "      <th>1</th>\n",
       "      <td>imgs/aluno1.png</td>\n",
       "      <td>ESTADO DE MATO GROSSO DO SUL\\nSECRETARIA DE ES...</td>\n",
       "    </tr>\n",
       "    <tr>\n",
       "      <th>2</th>\n",
       "      <td>imgs/aluno3.png</td>\n",
       "      <td>N° Chamada: 1\\nAno 1º ano\\nESTADO DE MATO GROS...</td>\n",
       "    </tr>\n",
       "    <tr>\n",
       "      <th>3</th>\n",
       "      <td>imgs/aluno2.png</td>\n",
       "      <td>SP\\nGOVERNO DO ESTADO DE SÃO PAULO\\nSECRETARIA...</td>\n",
       "    </tr>\n",
       "  </tbody>\n",
       "</table>\n",
       "</div>"
      ],
      "text/plain": [
       "           arquivo                                        transcricao\n",
       "0  imgs/aluno4.png  Expoente\\nDELLINGA EM EDUCAÇÃO\\nRUA ENDEREÇO E...\n",
       "1  imgs/aluno1.png  ESTADO DE MATO GROSSO DO SUL\\nSECRETARIA DE ES...\n",
       "2  imgs/aluno3.png  N° Chamada: 1\\nAno 1º ano\\nESTADO DE MATO GROS...\n",
       "3  imgs/aluno2.png  SP\\nGOVERNO DO ESTADO DE SÃO PAULO\\nSECRETARIA..."
      ]
     },
     "execution_count": 22,
     "metadata": {},
     "output_type": "execute_result"
    }
   ],
   "source": [
    "df"
   ]
  },
  {
   "cell_type": "code",
   "execution_count": 34,
   "id": "d275a32b-5b79-4105-b67a-917d45b1812b",
   "metadata": {},
   "outputs": [
    {
     "name": "stdout",
     "output_type": "stream",
     "text": [
      "Expoente\n",
      "DELLINGA EM EDUCAÇÃO\n",
      "RUA ENDEREÇO ENDEREÇO ENDEREÇO, 1141\n",
      "...\n",
      "ESTADO DE MATO GROSSO DO SUL\n",
      "SECRETARIA DE ESTADO DE EDUCAÇÃO\n",
      "...\n",
      "N° Chamada: 1\n",
      "Ano 1º ano\n",
      "ESTADO DE MATO GROSSO DO SUL\n",
      "...\n",
      "SP\n",
      "GOVERNO DO ESTADO DE SÃO PAULO\n",
      "SECRETARIA DA EDUCAÇÃO\n",
      "...\n"
     ]
    }
   ],
   "source": [
    "import pandas as pd\n",
    "from groq import Groq\n",
    "from dotenv import load_dotenv\n",
    "import os\n",
    "\n",
    "\n",
    "# Carregar variáveis de ambiente\n",
    "load_dotenv()\n",
    "\n",
    "# Inicializar o cliente Groq\n",
    "client = Groq()\n",
    "\n",
    "# Configuração do modelo Groq\n",
    "MODEL_NAME = \"llama3-8b-8192\"\n",
    "\n",
    "# Função para processar uma transcrição com o Groq\n",
    "def process_with_groq(transcription):\n",
    "    print(transcription)\n",
    "    try:\n",
    "        # Configurar mensagens para o Groq\n",
    "        messages = [\n",
    "            {\n",
    "                \"role\": \"system\",\n",
    "                \"content\": (\n",
    "                    \"Você é um assistente que estrutura informações transcritas de boletins escolares. \"\n",
    "                    \"Sua tarefa é extrair e estruturar informações no seguinte formato:\\n\\n\"\n",
    "                    \"- Nome do Aluno:\\n\"\n",
    "                    \"- Disciplinas e Notas por Bimestre (como tabelas):\\n\"\n",
    "                    \"  - Disciplina:\\n\"\n",
    "                    \"    - 1º Bimestre:\\n\"\n",
    "                    \"    - 2º Bimestre:\\n\"\n",
    "                    \"    - ...\\n\"\n",
    "                    \"- Observações adicionais, se houver.\"\n",
    "                )\n",
    "            },\n",
    "            {\n",
    "                \"role\": \"user\",\n",
    "                \"content\": transcription\n",
    "            }\n",
    "        ]\n",
    "\n",
    "        # Fazer a chamada ao modelo\n",
    "        chat_completion = client.chat.completions.create(\n",
    "            messages=messages,\n",
    "            model=MODEL_NAME,\n",
    "            temperature=0.5,\n",
    "            max_tokens=1024,\n",
    "            top_p=1,\n",
    "            stop=None,\n",
    "            stream=False,\n",
    "        )\n",
    "\n",
    "        # Retornar a resposta gerada\n",
    "        return chat_completion.choices[0].message.content\n",
    "\n",
    "    except Exception as e:\n",
    "        return f\"Erro ao processar a transcrição: {str(e)}\"\n",
    "\n",
    "# Processar todas as transcrições no DataFrame\n",
    "def process_dataframe(df):\n",
    "    outputs = []\n",
    "    for i in df['transcricao']:\n",
    "        structured_output = process_with_groq(i)\n",
    "        outputs.append({\n",
    "            \"arquivo\": 1,\n",
    "            \"saida_estruturada\": structured_output\n",
    "        })\n",
    "    return pd.DataFrame(outputs)\n",
    "\n",
    "# Processar o DataFrame\n",
    "processed_df = process_dataframe(df)"
   ]
  },
  {
   "cell_type": "code",
   "execution_count": 35,
   "id": "23684cb9-d623-44e9-a988-1ca0ef128150",
   "metadata": {},
   "outputs": [
    {
     "name": "stdout",
     "output_type": "stream",
     "text": [
      "Não há informações de alunos no boletim escolar fornecido. Por favor, forneça o boletim escolar com as informações dos alunos. Estou aqui para ajudar!\n",
      "Vou começar a estruturar as informações. Por favor, forneça o boletim escolar completo.\n",
      "Nenhum aluno foi encontrado com o número de chamada 1. Por favor, forneça o boletim escolar completo para que eu possa extrair as informações necessárias.\n",
      "Nenhum aluno foi encontrado no boletim escolar fornecido. Por favor, forneça o boletim escolar completo para que eu possa extrair as informações e estruturá-las no formato solicitado.\n"
     ]
    }
   ],
   "source": [
    "for x in processed_df['saida_estruturada']:\n",
    "    print(x)"
   ]
  },
  {
   "cell_type": "code",
   "execution_count": 31,
   "id": "3e38f535-5cbe-41dc-86c7-90a3e0bba23c",
   "metadata": {},
   "outputs": [
    {
     "data": {
      "text/html": [
       "<div>\n",
       "<style scoped>\n",
       "    .dataframe tbody tr th:only-of-type {\n",
       "        vertical-align: middle;\n",
       "    }\n",
       "\n",
       "    .dataframe tbody tr th {\n",
       "        vertical-align: top;\n",
       "    }\n",
       "\n",
       "    .dataframe thead th {\n",
       "        text-align: right;\n",
       "    }\n",
       "</style>\n",
       "<table border=\"1\" class=\"dataframe\">\n",
       "  <thead>\n",
       "    <tr style=\"text-align: right;\">\n",
       "      <th></th>\n",
       "      <th>arquivo</th>\n",
       "      <th>transcricao</th>\n",
       "    </tr>\n",
       "  </thead>\n",
       "  <tbody>\n",
       "    <tr>\n",
       "      <th>0</th>\n",
       "      <td>imgs/aluno4.png</td>\n",
       "      <td>Expoente\\nDELLINGA EM EDUCAÇÃO\\nRUA ENDEREÇO E...</td>\n",
       "    </tr>\n",
       "    <tr>\n",
       "      <th>1</th>\n",
       "      <td>imgs/aluno1.png</td>\n",
       "      <td>ESTADO DE MATO GROSSO DO SUL\\nSECRETARIA DE ES...</td>\n",
       "    </tr>\n",
       "    <tr>\n",
       "      <th>2</th>\n",
       "      <td>imgs/aluno3.png</td>\n",
       "      <td>N° Chamada: 1\\nAno 1º ano\\nESTADO DE MATO GROS...</td>\n",
       "    </tr>\n",
       "    <tr>\n",
       "      <th>3</th>\n",
       "      <td>imgs/aluno2.png</td>\n",
       "      <td>SP\\nGOVERNO DO ESTADO DE SÃO PAULO\\nSECRETARIA...</td>\n",
       "    </tr>\n",
       "  </tbody>\n",
       "</table>\n",
       "</div>"
      ],
      "text/plain": [
       "           arquivo                                        transcricao\n",
       "0  imgs/aluno4.png  Expoente\\nDELLINGA EM EDUCAÇÃO\\nRUA ENDEREÇO E...\n",
       "1  imgs/aluno1.png  ESTADO DE MATO GROSSO DO SUL\\nSECRETARIA DE ES...\n",
       "2  imgs/aluno3.png  N° Chamada: 1\\nAno 1º ano\\nESTADO DE MATO GROS...\n",
       "3  imgs/aluno2.png  SP\\nGOVERNO DO ESTADO DE SÃO PAULO\\nSECRETARIA..."
      ]
     },
     "execution_count": 31,
     "metadata": {},
     "output_type": "execute_result"
    }
   ],
   "source": [
    "df"
   ]
  },
  {
   "cell_type": "code",
   "execution_count": null,
   "id": "2fcbdb1d-5176-451d-9586-896f5580d390",
   "metadata": {},
   "outputs": [],
   "source": []
  }
 ],
 "metadata": {
  "kernelspec": {
   "display_name": "Python 3 (ipykernel)",
   "language": "python",
   "name": "python3"
  },
  "language_info": {
   "codemirror_mode": {
    "name": "ipython",
    "version": 3
   },
   "file_extension": ".py",
   "mimetype": "text/x-python",
   "name": "python",
   "nbconvert_exporter": "python",
   "pygments_lexer": "ipython3",
   "version": "3.12.2"
  }
 },
 "nbformat": 4,
 "nbformat_minor": 5
}
