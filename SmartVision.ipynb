{
 "cells": [
  {
   "cell_type": "code",
   "execution_count": 9,
   "id": "b1417409-53f4-4ab5-af5e-125b342ef042",
   "metadata": {},
   "outputs": [],
   "source": [
    "import os\n",
    "from dotenv import load_dotenv\n",
    "from google.cloud import vision\n",
    "import pandas as pd\n",
    "\n",
    "# Carregar variáveis do .env\n",
    "load_dotenv()\n",
    "os.environ[\"GOOGLE_APPLICATION_CREDENTIALS\"] = os.getenv(\"GOOGLE_APPLICATION_CREDENTIALS\")\n",
    "\n",
    "def extrair_texto_puro(image_path):\n",
    "    \"\"\"\n",
    "    Extrai o texto puro de uma imagem usando o Google Cloud Vision.\n",
    "\n",
    "    Args:\n",
    "        image_path (str): Caminho da imagem local.\n",
    "\n",
    "    Returns:\n",
    "        str: Texto extraído da imagem.\n",
    "    \"\"\"\n",
    "    # Configurar cliente\n",
    "    client = vision.ImageAnnotatorClient()\n",
    "\n",
    "    # Carregar a imagem\n",
    "    with open(image_path, 'rb') as image_file:\n",
    "        content = image_file.read()\n",
    "    image = vision.Image(content=content)\n",
    "\n",
    "    # Processar a imagem com Google Cloud Vision\n",
    "    response = client.text_detection(image=image)\n",
    "    texts = response.text_annotations\n",
    "\n",
    "    if not texts:\n",
    "        return \"Nenhum texto detectado.\"\n",
    "\n",
    "    # Retornar o texto completo\n",
    "    return texts[0].description\n",
    "\n",
    "def processar_diretorio_imgs(diretorio):\n",
    "    \"\"\"\n",
    "    Lê todas as imagens de um diretório, transcreve o texto e cria um DataFrame.\n",
    "\n",
    "    Args:\n",
    "        diretorio (str): Caminho do diretório com as imagens.\n",
    "\n",
    "    Returns:\n",
    "        pd.DataFrame: DataFrame contendo o caminho da imagem e o texto extraído.\n",
    "    \"\"\"\n",
    "    # Lista para armazenar os resultados\n",
    "    resultados = []\n",
    "\n",
    "    # Percorrer todos os arquivos no diretório\n",
    "    for arquivo in os.listdir(diretorio):\n",
    "        caminho_completo = os.path.join(diretorio, arquivo)\n",
    "\n",
    "        # Verificar se é um arquivo de imagem\n",
    "        if arquivo.lower().endswith(('.png', '.jpg', '.jpeg', '.bmp', '.tiff')):\n",
    "            print(f\"Processando imagem: {caminho_completo}\")\n",
    "            texto = extrair_texto_puro(caminho_completo)\n",
    "            resultados.append({\"arquivo\": caminho_completo, \"transcricao\": texto})\n",
    "\n",
    "    # Criar DataFrame\n",
    "    return pd.DataFrame(resultados)"
   ]
  },
  {
   "cell_type": "code",
   "execution_count": 10,
   "id": "8db234ae-5870-4779-a719-713ca0befd9b",
   "metadata": {},
   "outputs": [
    {
     "name": "stdout",
     "output_type": "stream",
     "text": [
      "Processando imagem: imgs/aluno4.png\n",
      "Processando imagem: imgs/aluno1.png\n",
      "Processando imagem: imgs/aluno3.png\n",
      "Processando imagem: imgs/aluno2.png\n",
      "           arquivo                                        transcricao\n",
      "0  imgs/aluno4.png  Expoente\\nDELLINGA EM EDUCAÇÃO\\nRUA ENDEREÇO E...\n",
      "1  imgs/aluno1.png  ESTADO DE MATO GROSSO DO SUL\\nSECRETARIA DE ES...\n",
      "2  imgs/aluno3.png  N° Chamada: 1\\nAno 1º ano\\nESTADO DE MATO GROS...\n",
      "3  imgs/aluno2.png  SP\\nGOVERNO DO ESTADO DE SÃO PAULO\\nSECRETARIA...\n"
     ]
    }
   ],
   "source": [
    "if __name__ == \"__main__\":\n",
    "    # Caminho para o diretório de imagens\n",
    "    diretorio_imgs = \"imgs\"\n",
    "\n",
    "    # Processar as imagens e criar o DataFrame\n",
    "    df = processar_diretorio_imgs(diretorio_imgs)\n",
    "\n",
    "    # Exibir o DataFrame\n",
    "    print(df)\n",
    "\n",
    "    # Salvar em um arquivo CSV para consulta futura, se necessário\n",
    "    df.to_csv(\"transcricoes.csv\", index=False, encoding=\"utf-8\")"
   ]
  },
  {
   "cell_type": "code",
   "execution_count": null,
   "id": "abef8b4e-b88c-4e1c-9b06-fb2de6b19f06",
   "metadata": {},
   "outputs": [],
   "source": []
  }
 ],
 "metadata": {
  "kernelspec": {
   "display_name": "Python 3 (ipykernel)",
   "language": "python",
   "name": "python3"
  },
  "language_info": {
   "codemirror_mode": {
    "name": "ipython",
    "version": 3
   },
   "file_extension": ".py",
   "mimetype": "text/x-python",
   "name": "python",
   "nbconvert_exporter": "python",
   "pygments_lexer": "ipython3",
   "version": "3.12.2"
  }
 },
 "nbformat": 4,
 "nbformat_minor": 5
}
